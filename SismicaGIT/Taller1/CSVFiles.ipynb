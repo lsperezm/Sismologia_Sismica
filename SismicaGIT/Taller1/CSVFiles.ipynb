{
 "cells": [
  {
   "cell_type": "code",
   "execution_count": 1,
   "id": "153285fb-f38b-4506-be00-1e8054df2bc2",
   "metadata": {},
   "outputs": [],
   "source": [
    "import csv\n"
   ]
  },
  {
   "cell_type": "code",
   "execution_count": 5,
   "id": "a972bfb2-a481-41d3-ae2c-2129b69e8a32",
   "metadata": {},
   "outputs": [
    {
     "name": "stdout",
     "output_type": "stream",
     "text": [
      "Datos guardados correctamente en fuentes.csv\n"
     ]
    }
   ],
   "source": [
    "\n",
    "filename = \"fuentes.csv\"\n",
    "\n",
    "with open(filename, mode=\"w\", newline=\"\") as file:\n",
    "    writer = csv.writer(file)\n",
    "    \n",
    "    writer.writerow([\"Punto\", \"Lat\", \"Long\"])\n",
    "    longi=-73.9449275\n",
    "    lati=6.549855\n",
    "    punto=0\n",
    "    while lati > 6.4592:\n",
    "        longi = -73.9449275\n",
    "    \n",
    "        while longi < -73.8996:  \n",
    "            \n",
    "            writer.writerow([punto, lati, longi])\n",
    "            longi+=0.00072524\n",
    "            punto+=1\n",
    "\n",
    "        lati-=0.001722445\n",
    "\n",
    "print(f\"Datos guardados correctamente en {filename}\")"
   ]
  },
  {
   "cell_type": "code",
   "execution_count": 8,
   "id": "9f778540-3565-4f97-b6ec-c73c24214bf5",
   "metadata": {},
   "outputs": [
    {
     "name": "stdout",
     "output_type": "stream",
     "text": [
      "Datos guardados correctamente en receptores.csv\n"
     ]
    }
   ],
   "source": [
    "filename = \"receptores.csv\"\n",
    "\n",
    "with open(filename, mode=\"w\", newline=\"\") as file:\n",
    "    writer = csv.writer(file)\n",
    "    \n",
    "    writer.writerow([\"Punto\", \"Lat\", \"Long\"])\n",
    "    longi=-73.9449275\n",
    "    lati=6.549855\n",
    "    punto=0\n",
    "    while longi < -73.8996 :\n",
    "        lati = 6.549855\n",
    "    \n",
    "        while lati > 6.4592:  \n",
    "            \n",
    "            writer.writerow([punto, lati, longi])\n",
    "            lati-=0.00072524\n",
    "            punto+=1\n",
    "\n",
    "        longi+=0.001722445\n",
    "\n",
    "print(f\"Datos guardados correctamente en {filename}\")"
   ]
  },
  {
   "cell_type": "code",
   "execution_count": null,
   "id": "77301714-f293-47ec-8066-2f0b0faad80a",
   "metadata": {},
   "outputs": [],
   "source": []
  }
 ],
 "metadata": {
  "kernelspec": {
   "display_name": "Python 3 (ipykernel)",
   "language": "python",
   "name": "python3"
  },
  "language_info": {
   "codemirror_mode": {
    "name": "ipython",
    "version": 3
   },
   "file_extension": ".py",
   "mimetype": "text/x-python",
   "name": "python",
   "nbconvert_exporter": "python",
   "pygments_lexer": "ipython3",
   "version": "3.13.1"
  }
 },
 "nbformat": 4,
 "nbformat_minor": 5
}
