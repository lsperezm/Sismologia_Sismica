{
 "cells": [
  {
   "cell_type": "markdown",
   "id": "ea8efc93",
   "metadata": {},
   "source": [
    "\n",
    "# Actividad: Exploración de fases sísmicas con ObsPy/TauP (versión ray paths circular)\n",
    "\n",
    "**Objetivo:** Familiarizarse con las fases sísmicas, modelos 1D de velocidades (`iasp91`, `prem`, `ak135`) y la interpretación de **curvas tiempo–trayecto** y **ray paths** en un esquema **circular** de la Tierra.\n"
   ]
  },
  {
   "cell_type": "markdown",
   "id": "7669ab43",
   "metadata": {},
   "source": [
    "\n",
    "## Requisitos\n",
    "- Python 3.8+\n",
    "- Paquetes: `obspy`, `matplotlib`, `numpy`\n",
    "\n",
    "> Si hace falta instalar paquetes, ejecuta la siguiente celda (una sola vez en tu entorno):\n"
   ]
  },
  {
   "cell_type": "code",
   "execution_count": null,
   "id": "475716e9",
   "metadata": {},
   "outputs": [],
   "source": [
    "# Ejecuta esta celda si te faltan dependencias (quita el comentario al inicio de cada línea si deseas instalar).\n",
    "# !pip install obspy matplotlib numpy\n"
   ]
  },
  {
   "cell_type": "markdown",
   "id": "b9d0c96a",
   "metadata": {},
   "source": [
    "## Importaciones"
   ]
  },
  {
   "cell_type": "code",
   "execution_count": 16,
   "id": "a24beb08",
   "metadata": {},
   "outputs": [
    {
     "name": "stdout",
     "output_type": "stream",
     "text": [
      "Librerías cargadas correctamente.\n"
     ]
    }
   ],
   "source": [
    "import math\n",
    "import numpy as np\n",
    "import matplotlib.pyplot as plt\n",
    "\n",
    "from obspy.taup import TauPyModel\n",
    "\n",
    "print(\"Librerías cargadas correctamente.\")"
   ]
  },
  {
   "cell_type": "markdown",
   "id": "43480c05",
   "metadata": {},
   "source": [
    "## Funciones auxiliares"
   ]
  },
  {
   "cell_type": "code",
   "execution_count": 22,
   "id": "a53f5bd7",
   "metadata": {},
   "outputs": [],
   "source": [
    "def normalize_phases(phases_str):\n",
    "    \"\"\"\n",
    "    Normaliza lista separada por comas: quita espacios y ajusta casos típicos.\n",
    "    E.g., 'p, s , PCP' -> ['P', 'S', 'PcP']\n",
    "    \"\"\"\n",
    "    canonical = {\n",
    "        \"PCP\": \"PcP\", \"SCS\": \"ScS\", \"PKP\": \"PKP\", \"SKS\": \"SKS\",\n",
    "        \"PKIKP\": \"PKiKP\", \"PDIFF\": \"Pdiff\", \"SDIFF\": \"Sdiff\"\n",
    "    }\n",
    "    phases = []\n",
    "    for p in phases_str.split(\",\"):\n",
    "        p = p.strip()\n",
    "        if not p:\n",
    "            continue\n",
    "        u = p.upper()\n",
    "        phases.append(canonical.get(u, u))\n",
    "    phases = list(dict.fromkeys(phases))\n",
    "    return phases\n",
    "\n",
    "\n",
    "def compute_travel_times(model, depth_km, distances_deg, phases):\n",
    "    \"\"\"Devuelve {fase: np.array(tiempos_en_seg)} con NaN cuando no hay arribo.\"\"\"\n",
    "    results = {ph: [] for ph in phases}\n",
    "    for d in distances_deg:\n",
    "        for ph in phases:\n",
    "            try:\n",
    "                arrivals = model.get_travel_times(\n",
    "                    source_depth_in_km=depth_km,\n",
    "                    distance_in_degree=d,\n",
    "                    phase_list=[ph]\n",
    "                )\n",
    "                if len(arrivals) == 0:\n",
    "                    results[ph].append(np.nan)\n",
    "                else:\n",
    "                    t_min = min(a.time for a in arrivals)\n",
    "                    results[ph].append(t_min)\n",
    "            except Exception:\n",
    "                results[ph].append(np.nan)\n",
    "    for ph in phases:\n",
    "        results[ph] = np.array(results[ph], dtype=float)\n",
    "    return results\n",
    "\n",
    "\n",
    "def plot_time_distance(distances_deg, tt_dict, model_name, depth_km, outfile=\"tiempo_trayecto.png\"):\n",
    "    plt.figure(figsize=(9, 6))\n",
    "    for ph, arr in tt_dict.items():\n",
    "        if np.all(np.isnan(arr)):\n",
    "            continue\n",
    "        plt.plot(distances_deg, arr, label=ph)  # Sin especificar colores\n",
    "    plt.xlabel(\"Distancia (°)\")\n",
    "    plt.ylabel(\"Tiempo de llegada (s)\")\n",
    "    plt.title(f\"Curvas tiempo–trayecto | Modelo: {model_name} | Profundidad: {depth_km} km\")\n",
    "    plt.legend()\n",
    "    plt.grid(True)\n",
    "    plt.tight_layout()\n",
    "    try:\n",
    "        plt.savefig(outfile, dpi=150)\n",
    "        print(f\"✔ Figura guardada: {outfile}\")\n",
    "    except Exception as e:\n",
    "        print(f\"Advertencia: no se pudo guardar {outfile}: {e}\")\n",
    "    plt.show()\n",
    "\n",
    "\n",
    "def plot_ray_paths_circular(model, depth_km, distance_deg, phases, outfile=\"ray_paths_polar.png\"):\n",
    "    \"\"\"Grafica trayectorias de rayos en un esquema circular (proyección polar).\"\"\"\n",
    "    try:\n",
    "        arrivals = model.get_ray_paths(\n",
    "            source_depth_in_km=depth_km,\n",
    "            phase_list=phases,\n",
    "            distance_in_degree=distance_deg\n",
    "        )\n",
    "        fig, ax = plt.subplots(figsize=(10, 10), subplot_kw={'projection': 'polar'})\n",
    "        arrivals.plot_rays(ax=ax)  # usa estilo de TauP; no especificar colores\n",
    "        ax.set_title(f\"Trayectorias de rayos sísmicos\\nProfundidad: {depth_km} km | Δ={distance_deg}°\")\n",
    "        fig.savefig(outfile, dpi=150)\n",
    "        print(f\"✔ Figura guardada: {outfile}\")\n",
    "        plt.show()\n",
    "    except ValueError as e:\n",
    "        print(f\"No se pudieron calcular trayectorias de rayos: {e}\")"
   ]
  },
  {
   "cell_type": "markdown",
   "id": "d494f325",
   "metadata": {},
   "source": [
    "\n",
    "## Parámetros de la actividad\n",
    "Edita las variables de esta celda y vuelve a ejecutar para probar distintos escenarios.\n"
   ]
  },
  {
   "cell_type": "code",
   "execution_count": 28,
   "id": "2717c7d6",
   "metadata": {},
   "outputs": [
    {
     "name": "stdout",
     "output_type": "stream",
     "text": [
      "Modelo: iasp91\n",
      "Profundidad (km): 0\n",
      "Rango de distancias (°): 0 → 0 | puntos: 0\n",
      "Fases: []\n",
      "Δ para ray paths (°): 0\n"
     ]
    }
   ],
   "source": [
    "# --- Parámetros ---\n",
    "model_name = \"iasp91\"        # \"iasp91\", \"prem\" o \"ak135\"\n",
    "depth_km = 0              # Profundidad de la fuente (km)\n",
    "dmin, dmax = 0, 0      # Rango de distancias (grados)\n",
    "n_stations = 0             # Número de puntos de muestreo en el eje de distancia\n",
    "phases_str = \"\"  # Fases separadas por comas\n",
    "\n",
    "# Para ray paths (puedes ajustar manualmente)\n",
    "distance_for_rays = 0     # Δ en grados para el diagrama circular\n",
    "\n",
    "# --- Construcción de objetos/arrays ---\n",
    "model = TauPyModel(model=model_name)\n",
    "distances = np.linspace(dmin, dmax, int(n_stations))\n",
    "phases = normalize_phases(phases_str)\n",
    "\n",
    "print(\"Modelo:\", model_name)\n",
    "print(\"Profundidad (km):\", depth_km)\n",
    "print(\"Rango de distancias (°):\", dmin, \"→\", dmax, \"| puntos:\", len(distances))\n",
    "print(\"Fases:\", phases)\n",
    "print(\"Δ para ray paths (°):\", distance_for_rays)"
   ]
  },
  {
   "cell_type": "markdown",
   "id": "044a0941",
   "metadata": {},
   "source": [
    "## Cálculo de tiempos de llegada y figura tiempo–trayecto"
   ]
  },
  {
   "cell_type": "code",
   "execution_count": 29,
   "id": "18394593",
   "metadata": {},
   "outputs": [
    {
     "name": "stderr",
     "output_type": "stream",
     "text": [
      "/var/folders/p4/hw7932ns5d90kpxbg5jc_tbr0000gp/T/ipykernel_6540/1595232286.py:53: UserWarning: No artists with labels found to put in legend.  Note that artists whose label start with an underscore are ignored when legend() is called with no argument.\n",
      "  plt.legend()\n"
     ]
    },
    {
     "name": "stdout",
     "output_type": "stream",
     "text": [
      "✔ Figura guardada: tiempo_trayecto.png\n"
     ]
    },
    {
     "data": {
      "image/png": "[encoded data removed]",
      "text/plain": [
       "<Figure size 900x600 with 1 Axes>"
      ]
     },
     "metadata": {},
     "output_type": "display_data"
    }
   ],
   "source": [
    "tt = compute_travel_times(model, depth_km, distances, phases)\n",
    "plot_time_distance(distances, tt, model_name, depth_km, outfile=\"tiempo_trayecto.png\")"
   ]
  },
  {
   "cell_type": "markdown",
   "id": "fa05d0c8",
   "metadata": {},
   "source": [
    "## Ray paths en esquema circular (polar)"
   ]
  },
  {
   "cell_type": "code",
   "execution_count": 30,
   "id": "515b7b4c",
   "metadata": {},
   "outputs": [
    {
     "name": "stdout",
     "output_type": "stream",
     "text": [
      "Intentando ray paths circulares a Δ=0.0° con fases: []\n",
      "No hay fases con llegadas en el rango dado; ajusta parámetros o fases.\n"
     ]
    }
   ],
   "source": [
    "# Usamos la distancia definida en 'distance_for_rays'\n",
    "phases_with_any = [ph for ph, arr in tt.items() if np.any(~np.isnan(arr))]\n",
    "print(f\"Intentando ray paths circulares a Δ={distance_for_rays:.1f}° con fases: {phases_with_any}\")\n",
    "if len(phases_with_any) > 0:\n",
    "    plot_ray_paths_circular(model, depth_km, distance_for_rays, phases_with_any, outfile=\"ray_paths_polar.png\")\n",
    "else:\n",
    "    print(\"No hay fases con llegadas en el rango dado; ajusta parámetros o fases.\")"
   ]
  },
  {
   "cell_type": "markdown",
   "id": "5fb85c83",
   "metadata": {},
   "source": [
    "## Exportar tabla (CSV) de tiempos de llegada"
   ]
  },
  {
   "cell_type": "code",
   "execution_count": 31,
   "id": "e733a220",
   "metadata": {},
   "outputs": [
    {
     "name": "stdout",
     "output_type": "stream",
     "text": [
      "✔ CSV guardado: tiempos_llegada.csv\n"
     ]
    }
   ],
   "source": [
    "import csv\n",
    "out_csv = \"tiempos_llegada.csv\"\n",
    "with open(out_csv, \"w\", newline=\"\") as f:\n",
    "    writer = csv.writer(f)\n",
    "    header = [\"distance_deg\"] + phases\n",
    "    writer.writerow(header)\n",
    "    for i, d in enumerate(distances):\n",
    "        row = [f\"{d:.4f}\"]\n",
    "        for ph in phases:\n",
    "            val = tt[ph][i]\n",
    "            row.append(\"\" if (np.isnan(val)) else f\"{val:.4f}\")\n",
    "        writer.writerow(row)\n",
    "print(f\"✔ CSV guardado: {out_csv}\")"
   ]
  },
  {
   "cell_type": "code",
   "execution_count": null,
   "id": "c0112dba",
   "metadata": {},
   "outputs": [],
   "source": []
  }
 ],
 "metadata": {
  "kernelspec": {
   "display_name": "Python 3 (ipykernel)",
   "language": "python",
   "name": "python3"
  },
  "language_info": {
   "codemirror_mode": {
    "name": "ipython",
    "version": 3
   },
   "file_extension": ".py",
   "mimetype": "text/x-python",
   "name": "python",
   "nbconvert_exporter": "python",
   "pygments_lexer": "ipython3",
   "version": "3.9.23"
  }
 },
 "nbformat": 4,
 "nbformat_minor": 5
}
